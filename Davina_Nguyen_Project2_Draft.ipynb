{
 "cells": [
  {
   "cell_type": "markdown",
   "id": "adbdb1af",
   "metadata": {},
   "source": [
    "# Project 2\n",
    "\n",
    "\n",
    "## Scientific Question: Which pathways are seen upregulated/downregulated leading to the epigenetic modification of HT29 colon cancer cells following CPT-CEF treatment that cause inhibition of topoisomerase? \n",
    "\n",
    "Epigenetic changes to DNA structure regulates gene expression by turning them on or off. Epigenetic changes include DNA methylation, histone modification, and non-coding RNA. An example would be an epigenetic change that downregulates genes involved in DNA repair mechanism, leading to an increase in DNA damage, which in turn, increases cancer risk. Mutations in genes involved in repair allow damaged and abnormal DNA to replicate and divide, bypassing cell arrest. CPT-CEF (Camptothecin-cyclodextrin-EDTA-FE3O4) is an anticancer drug encapsulated in a nanoparticle to increase its solubility and efficiency in battling cancer. CPT is a topoisomerase 1 inhibitor \n",
    "\n",
    "\n",
    "\n",
    "\n"
   ]
  },
  {
   "cell_type": "markdown",
   "id": "436d44bb",
   "metadata": {},
   "source": [
    "\n",
    "## Scientific Hypothesis: If genes involved in histone acetylation alter gene expression in favor proliferation and cell growth of HT29 colon cancer cells, then the CPT-CEF treated colon cancer cells will aid in hypo-methylating DNA to decrease proliferation. \n",
    "\n",
    "\n",
    "\n",
    "\n"
   ]
  },
  {
   "cell_type": "markdown",
   "id": "4b943234",
   "metadata": {},
   "source": [
    "## Part 1: Loading Packages\n",
    "\n",
    "\n"
   ]
  },
  {
   "cell_type": "markdown",
   "id": "3125cc06",
   "metadata": {},
   "source": [
    "## Part 2: Load in the data and perform Bioinformatics Analyses "
   ]
  }
 ],
 "metadata": {
  "kernelspec": {
   "display_name": "Python 3 (ipykernel)",
   "language": "python",
   "name": "python3"
  },
  "language_info": {
   "codemirror_mode": {
    "name": "ipython",
    "version": 3
   },
   "file_extension": ".py",
   "mimetype": "text/x-python",
   "name": "python",
   "nbconvert_exporter": "python",
   "pygments_lexer": "ipython3",
   "version": "3.9.7"
  }
 },
 "nbformat": 4,
 "nbformat_minor": 5
}
